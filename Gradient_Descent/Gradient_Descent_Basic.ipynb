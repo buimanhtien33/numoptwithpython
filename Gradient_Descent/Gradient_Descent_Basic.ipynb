{
  "nbformat": 4,
  "nbformat_minor": 0,
  "metadata": {
    "colab": {
      "provenance": [],
      "authorship_tag": "ABX9TyMScppiF0cLFn9KNMTywN1u",
      "include_colab_link": true
    },
    "kernelspec": {
      "name": "python3",
      "display_name": "Python 3"
    },
    "language_info": {
      "name": "python"
    },
    "gpuClass": "standard"
  },
  "cells": [
    {
      "cell_type": "markdown",
      "metadata": {
        "id": "view-in-github",
        "colab_type": "text"
      },
      "source": [
        "<a href=\"https://colab.research.google.com/github/buimanhtien33/numoptwithpython/blob/main/Gradient_Descent/Gradient_Descent_Basic.ipynb\" target=\"_parent\"><img src=\"https://colab.research.google.com/assets/colab-badge.svg\" alt=\"Open In Colab\"/></a>"
      ]
    },
    {
      "cell_type": "markdown",
      "source": [
        "chọn x = 10, learning_rate = 0.1, \n",
        "\n",
        "giá trị $f(x) = x^2 -2x +1$\n"
      ],
      "metadata": {
        "id": "G_qCxHNTOfSF"
      }
    },
    {
      "cell_type": "code",
      "source": [
        "import numpy as np\n",
        "import sympy as sp\n",
        "import matplotlib.pyplot as plt"
      ],
      "metadata": {
        "id": "ZvNwIdk-PNSQ"
      },
      "execution_count": null,
      "outputs": []
    },
    {
      "cell_type": "code",
      "source": [
        "x = sp.Symbol('x')"
      ],
      "metadata": {
        "id": "FPsFn79GP6_n"
      },
      "execution_count": null,
      "outputs": []
    },
    {
      "cell_type": "code",
      "source": [
        "def gradient_descent(cost_fn, initial_guess, step_size):\n",
        "  df = sp.diff(cost_fn, x)\n",
        "  df = sp.lambdify(x,df)\n",
        "\n",
        "  precision = 0.0001\n",
        "\n",
        "  new_x = initial_guess\n",
        "  x_array = np.array([new_x])\n",
        "\n",
        "  for n in range(100):\n",
        "    # Step 1: Predict (Make a guess)\n",
        "    previous_x = new_x\n",
        "\n",
        "    # Step 2: Calculate the error\n",
        "    gradient = df(previous_x)\n",
        "\n",
        "    # Step 3: Learn\n",
        "    new_x = previous_x - step_size * gradient\n",
        "\n",
        "    # Step 4: Check convergence condition\n",
        "    step_length = abs(new_x - previous_x)\n",
        "\n",
        "    x_array = np.append(x_array, new_x)\n",
        "\n",
        "    if step_length < precision:\n",
        "      break\n",
        "\n",
        "  print('Minimum occurs at x-value: ', new_x)\n",
        "  print('Slope at the minimun is: ',df(new_x))\n",
        "  print('Current iter: ',n)\n",
        "  print('Current step length:  ',step_length)\n",
        "  return new_x, step_length, x_array\n"
      ],
      "metadata": {
        "id": "BAVBbxTZQxqG"
      },
      "execution_count": null,
      "outputs": []
    },
    {
      "cell_type": "code",
      "source": [
        "fx = x**2 -2*x +1\n",
        "\n",
        "# Plot function fx\n",
        "tx = np.linspace(-4,6,1000)\n",
        "ftx = tx**2 -2*tx +1\n",
        "plt.plot(tx,ftx)\n",
        "#plt.xlim(-4,6)\n",
        "plt.show()\n",
        "\n"
      ],
      "metadata": {
        "colab": {
          "base_uri": "https://localhost:8080/",
          "height": 265
        },
        "id": "jhVHVWB5WXHh",
        "outputId": "83161e42-cc84-402b-d77e-20a3ff15a0b0"
      },
      "execution_count": null,
      "outputs": [
        {
          "output_type": "display_data",
          "data": {
            "text/plain": [
              "<Figure size 432x288 with 1 Axes>"
            ],
            "image/png": "[encoded data removed]"
          },
          "metadata": {
            "needs_background": "light"
          }
        }
      ]
    },
    {
      "cell_type": "code",
      "source": [
        "dfx = sp.diff(fx, x)\n",
        "dfx"
      ],
      "metadata": {
        "colab": {
          "base_uri": "https://localhost:8080/",
          "height": 38
        },
        "id": "p75wzYrLdBjo",
        "outputId": "89a4329a-e1b2-446d-e60a-d58b112a0fe4"
      },
      "execution_count": null,
      "outputs": [
        {
          "output_type": "execute_result",
          "data": {
            "text/plain": [
              "2*x - 2"
            ],
            "text/latex": "$\\displaystyle 2 x - 2$"
          },
          "metadata": {},
          "execution_count": 5
        }
      ]
    },
    {
      "cell_type": "code",
      "source": [
        "x_opt, last_step_length, x_array = gradient_descent(fx, 10, 0.1)"
      ],
      "metadata": {
        "colab": {
          "base_uri": "https://localhost:8080/"
        },
        "id": "893mYRibcjIQ",
        "outputId": "cfc38906-15ff-408e-afd0-2bdbd9d8ddea"
      },
      "execution_count": null,
      "outputs": [
        {
          "output_type": "stream",
          "name": "stdout",
          "text": [
            "Minimum occurs at x-value:  1.000392005286693\n",
            "Slope at the minimun is:  0.0007840105733860625\n",
            "Current iter:  44\n",
            "Current step length:   9.800132167314679e-05\n"
          ]
        }
      ]
    },
    {
      "cell_type": "code",
      "source": [
        "f_array = np.array([fx.subs(x, x_array[k]) for k in range(x_array.size)])"
      ],
      "metadata": {
        "id": "fX9JroShg1Ju"
      },
      "execution_count": null,
      "outputs": []
    },
    {
      "cell_type": "code",
      "source": [
        "tx = np.linspace(-8,10,1000)\n",
        "ftx = tx**2 -2*tx +1\n",
        "plt.plot(tx,ftx, label = 'real', color='red')\n",
        "plt.scatter(x_array,f_array, label ='predict',color='blue')\n",
        "plt.legend()\n",
        "plt.show()"
      ],
      "metadata": {
        "colab": {
          "base_uri": "https://localhost:8080/",
          "height": 265
        },
        "id": "5euOi11Og87I",
        "outputId": "156779cc-ab46-405c-d1d2-b2d9b254df70"
      },
      "execution_count": null,
      "outputs": [
        {
          "output_type": "display_data",
          "data": {
            "text/plain": [
              "<Figure size 432x288 with 1 Axes>"
            ],
            "image/png": "[encoded data removed]"
          },
          "metadata": {
            "needs_background": "light"
          }
        }
      ]
    }
  ]
}