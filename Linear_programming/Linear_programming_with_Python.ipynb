{
  "cells": [
    {
      "cell_type": "markdown",
      "id": "0f9c34d6",
      "metadata": {
        "id": "0f9c34d6"
      },
      "source": [
        "# Lập trình giải bài toán quy hoạch tuyến tính (Linear programming)\n",
        "\n",
        " **Tham khảo từ thầy Doãn Minh Đăng**"
      ]
    },
    {
      "cell_type": "markdown",
      "id": "325402b4",
      "metadata": {
        "id": "325402b4"
      },
      "source": [
        "## Công thức mô tả bài toán LP"
      ]
    },
    {
      "cell_type": "markdown",
      "id": "f13e6c3f",
      "metadata": {
        "id": "f13e6c3f"
      },
      "source": [
        "Phát biểu dạng bài toán cực tiểu hóa:\n",
        "\n",
        "$\\begin{align}\n",
        "\\underset{\\substack{\\mathbf{x}}}{\\mathrm{min}} \\quad & \\mathrm{c}^T \\mathbf{x} \\\\\n",
        "\\text{subject to} \\quad & \\mathrm{A}_{\\text{eq}}\\mathbf{x} = \\mathrm{b}_{\\text{eq}} \\\\\n",
        " & \\mathrm{A}_{\\text{ineq}}\\mathbf{x} \\le \\mathrm{b}_{\\text{ineq}}\n",
        " \\end{align}\n",
        "$\n",
        "\n",
        "hoặc phát biểu dạng bài toán cực đại hóa:\n",
        "\n",
        "$\\begin{align}\n",
        "\\underset{\\substack{\\mathbf{x}}}{\\mathrm{max}} \\quad & \\mathrm{c}^T \\mathbf{x} \\\\\n",
        "\\text{subject to} \\quad & \\mathrm{A}_{\\text{eq}}\\mathbf{x} = \\mathrm{b}_{\\text{eq}} \\\\\n",
        " & \\mathrm{A}_{\\text{ineq}}\\mathbf{x} \\le \\mathrm{b}_{\\text{ineq}}\n",
        " \\end{align}\n",
        "$\n"
      ]
    },
    {
      "cell_type": "markdown",
      "id": "9741c46a",
      "metadata": {
        "id": "9741c46a"
      },
      "source": [
        "## Ví dụ một vấn đề có thể chuyển thành bài toán LP"
      ]
    },
    {
      "cell_type": "markdown",
      "id": "1e570537",
      "metadata": {
        "id": "1e570537"
      },
      "source": [
        "Tình huống: Một công ty kinh doanh thương mại chuẩn bị cho một đợt khuyến mãi nhằm thu hút khách hàng bằng cách tiến hành quảng cáo sản phẩm của công ty trên hệ thống phát thanh và truyền hình.\n",
        "\n",
        "Chi phí cho 1 phút quảng cáo trên sóng phát thanh là 80.000đ, trên sóng truyền hình là 400.000đ.\n",
        "\n",
        "Đài phát thanh chỉ nhận phát các chương trình quảng cáo dài ít nhất là 5 phút.\n",
        "\n",
        "Do nhu cầu quảng cáo trên truyền hình rất lớn nên đài truyền hình chỉ nhận phát các chương trình dài tối đa 4 phút.\n",
        "\n",
        "Theo các phân tích xã hội học, cùng thời lượng 1 phút quảng cáo, trên truyền hình sẽ có hiệu quả gấp 6 lần trên sóng phát thanh.\n",
        "\n",
        "Công ty dự định chi tối đa là 1.600.000đ cho quảng cáo.\n",
        "\n",
        "Công ty nên đặt thời lượng quảng cáo trên sóng phát thanh và truyền hình như thế nào để hiệu quả nhất?"
      ]
    },
    {
      "cell_type": "markdown",
      "id": "acce2119",
      "metadata": {
        "id": "acce2119"
      },
      "source": [
        "### Mô hình hóa bài toán ví dụ:\n",
        "\n",
        "Xác định biến số:\n",
        "\n",
        "$\\mathbf{x} = \\left[ \\begin{array}{c} x_1 \\\\ x_2 \\end{array} \\right] $\n",
        "\n",
        "\n",
        "trong đó $x_1$ là số phút phát quảng cáo trên đài phát thanh, $x_2$ là số phút phát quảng cáo trên truyền hình\n",
        "\n",
        "Diễn đạt bài toán thành công thức:\n",
        "\n",
        "$\\begin{align}\n",
        "\\underset{\\substack{\\mathbf{x}}}{\\mathrm{max}} \\quad & x_1 + 6x_2 \\\\\n",
        "\\text{subject to} \\quad & x_1 \\ge 5 \\\\\n",
        " & x_2 \\le 4 \\\\\n",
        " & 80000x_1 + 400000x_2 \\le 1600000\n",
        " \\end{align}\n",
        "$\n",
        "\n",
        "(thực tế còn có điều kiện nữa, là $x_1$ và $x_2$ không âm)"
      ]
    },
    {
      "cell_type": "markdown",
      "id": "6376a8c9",
      "metadata": {
        "id": "6376a8c9"
      },
      "source": [
        "#### Vẽ đồ thị tập khả thi tương ứng với các ràng buộc"
      ]
    },
    {
      "cell_type": "code",
      "execution_count": null,
      "id": "8e29e6c2",
      "metadata": {
        "id": "8e29e6c2",
        "outputId": "a54e1e38-10ff-496b-dd8d-67fabc1659e4"
      },
      "outputs": [
        {
          "data": {
            "image/png": "[encoded data removed]",
            "text/plain": [
              "<Figure size 640x480 with 1 Axes>"
            ]
          },
          "metadata": {},
          "output_type": "display_data"
        }
      ],
      "source": [
        "import matplotlib.pyplot as plt\n",
        "import numpy as np\n",
        "\n",
        "# Construct lines\n",
        "# x >= 0\n",
        "x = np.linspace(0, 10, 1000)\n",
        "# x >= 5\n",
        "x1 = (x*0) + 5\n",
        "# y >= 0\n",
        "y2 = x\n",
        "# y <= 4\n",
        "y3 = (x*0) + 4\n",
        "# 400000y <= 1600000 - 80000x\n",
        "y4 = (1600000 - 80000*x)/400000\n",
        "\n",
        "# make plot\n",
        "plt.plot(x1, y2, label=r'$x_1 \\ge 5')\n",
        "plt.plot(x, y3, label=r'$x_2 \\le 4')\n",
        "plt.plot(x, y4, label=r'$80000x_1 + 400000x_2 \\le 1600000')\n",
        "plt.xlim((0, 10))\n",
        "plt.ylim((0, 10))\n",
        "plt.xlabel(r'$x_1')\n",
        "plt.ylabel(r'$x_2')\n",
        "\n",
        "# fill feasible region\n",
        "y5 = np.minimum(y3, y4)\n",
        "plt.fill_between(x, y5, where=x>5, color='grey', alpha=0.5)\n",
        "\n",
        "\n",
        "plt.legend(bbox_to_anchor=(1.05, 1), loc=2, borderaxespad=0.)\n",
        "\n",
        "# Show the plot\n",
        "plt.show()\n"
      ]
    },
    {
      "cell_type": "markdown",
      "id": "47c8def5",
      "metadata": {
        "id": "47c8def5"
      },
      "source": [
        "## Lập trình Python để mô tả bài toán và giải"
      ]
    },
    {
      "cell_type": "markdown",
      "id": "fe90db54",
      "metadata": {
        "id": "fe90db54"
      },
      "source": [
        "#### Using PuLP"
      ]
    },
    {
      "cell_type": "code",
      "execution_count": null,
      "id": "54f5b745",
      "metadata": {
        "id": "54f5b745",
        "outputId": "3c25e384-3e8d-4719-b95e-0223bb904d1a"
      },
      "outputs": [
        {
          "name": "stdout",
          "output_type": "stream",
          "text": [
            "Status: Optimal\n",
            "Optimal value: 23.0\n",
            "Optimal solution: x1 = 5.0, x2 = 3.0\n"
          ]
        }
      ],
      "source": [
        "import pulp\n",
        "\n",
        "# Create the LP problem\n",
        "prob = pulp.LpProblem(\"Example_LP_Problem\", pulp.LpMaximize)\n",
        "\n",
        "# Define the decision variables\n",
        "x1 = pulp.LpVariable(\"x1\", lowBound=0)\n",
        "# if x1 must be an integer: x1 = pulp.LpVariable(\"x1\", lowBound=0, cat=\"Integer\")\n",
        "x2 = pulp.LpVariable(\"x2\", lowBound=0)\n",
        "\n",
        "# Set the objective function\n",
        "prob += x1 + 6 * x2\n",
        "\n",
        "# Add constraints\n",
        "prob += x1 >= 5\n",
        "prob += x2 <= 4\n",
        "prob += 80000 * x1 + 400000 * x2 <=1600000\n",
        "\n",
        "# Solve the LP problem\n",
        "status = prob.solve()\n",
        "\n",
        "# Print the solution\n",
        "print(f\"Status: {pulp.LpStatus[status]}\")\n",
        "print(f\"Optimal value: {pulp.value(prob.objective)}\")\n",
        "print(f\"Optimal solution: x1 = {x1.varValue}, x2 = {x2.varValue}\")\n"
      ]
    },
    {
      "cell_type": "markdown",
      "id": "54a8957f",
      "metadata": {
        "id": "54a8957f"
      },
      "source": [
        "#### Using Pyomo"
      ]
    },
    {
      "cell_type": "code",
      "execution_count": null,
      "id": "88ba86cd",
      "metadata": {
        "id": "88ba86cd",
        "outputId": "293e237a-535c-4f08-867e-a485ab05c808"
      },
      "outputs": [
        {
          "name": "stdout",
          "output_type": "stream",
          "text": [
            "Optimal value: 23.0\n",
            "Optimal solution: x1 = 5.0, x2 = 3.0\n"
          ]
        }
      ],
      "source": [
        "# To install glpk solver:\n",
        "# apt install python3.9-dev libglpk-dev libgmp3-dev\n",
        "# pip3 install glpk\n",
        "# apt install glpk-utils\n",
        "\n",
        "#import sys\n",
        "#sys.path.append('~/.local/lib/python3.9/site-packages') # so that glpk path is included in path\n",
        "\n",
        "from pyomo.environ import *\n",
        "\n",
        "# Create the model\n",
        "model = ConcreteModel()\n",
        "\n",
        "# Define the decision variables\n",
        "model.x1 = Var(within=NonNegativeReals)\n",
        "model.x2 = Var(within=NonNegativeReals)\n",
        "\n",
        "# Define the objective function\n",
        "model.obj = Objective(expr=model.x1 + 6*model.x2, sense=maximize)\n",
        "\n",
        "# Define the constraints\n",
        "model.con1 = Constraint(expr=model.x1 >= 5)\n",
        "model.con2 = Constraint(expr=model.x2 <= 4)\n",
        "model.con3 = Constraint(expr=80000 * model.x1 + 400000 * model.x2 <= 1600000)\n",
        "\n",
        "# Solve the linear programming problem\n",
        "solver = SolverFactory('glpk', executable='/usr/bin/glpsol')\n",
        "results = solver.solve(model)\n",
        "\n",
        "# Print the solution\n",
        "print(f\"Optimal value: {model.obj()}\")\n",
        "print(f\"Optimal solution: x1 = {model.x1()}, x2 = {model.x2()}\")\n"
      ]
    },
    {
      "cell_type": "markdown",
      "id": "df6d4b92",
      "metadata": {
        "id": "df6d4b92"
      },
      "source": [
        "#### Using Scipy\n",
        "\n",
        "Ta dùng gói linprog trong thư viện scipy.optimize. **Lưu ý**: linprog quy ước giải bài toán cực tiểu hóa (minimize), nên khi ta muốn giải bài toán maximize thì khai báo là minimize số đối của nó.\n",
        "\n",
        "$\\begin{align}\n",
        "\\underset{\\substack{\\mathbf{x}}}{\\mathrm{min}} \\quad & \\mathrm{c}^T \\mathbf{x} \\\\\n",
        "\\text{subject to} \\quad & \\mathrm{A}_{\\text{eq}}\\mathbf{x} = \\mathrm{b}_{\\text{eq}} \\\\\n",
        " & \\mathrm{A}_{\\text{ineq}}\\mathbf{x} \\le \\mathrm{b}_{\\text{ineq}}\n",
        " \\end{align}\n",
        "$\n"
      ]
    },
    {
      "cell_type": "code",
      "execution_count": null,
      "id": "50612145",
      "metadata": {
        "id": "50612145"
      },
      "outputs": [],
      "source": [
        "import numpy as np\n",
        "from scipy.optimize import linprog\n",
        "\n",
        "# Define the objective function\n",
        "c = [-1, -6]\n",
        "\n",
        "# Define the inequality constraints\n",
        "Aineq = [[-1, 0], [0, 1], [80000, 400000]]\n",
        "bineq = [-5, 4, 1600000]\n",
        "\n",
        "# Define the bounds on the variables\n",
        "x1_bounds = (0, None)\n",
        "x2_bounds = (0, None)\n",
        "\n",
        "# Solve the linear programming problem\n",
        "res = linprog(c, A_ub=Aineq, b_ub=bineq, bounds=[x1_bounds, x2_bounds],\n",
        "             options={\"disp\": True})\n"
      ]
    },
    {
      "cell_type": "code",
      "execution_count": null,
      "id": "40584591",
      "metadata": {
        "id": "40584591",
        "outputId": "437d9bdf-bdf6-4e05-a642-1fa640879026"
      },
      "outputs": [
        {
          "name": "stdout",
          "output_type": "stream",
          "text": [
            "Optimal value: -23.0\n",
            "Optimal solution: x1 = 5.0, x2 = 3.0\n"
          ]
        }
      ],
      "source": [
        "\n",
        "# Print the solution\n",
        "print(f\"Optimal value: {res.fun}\")\n",
        "print(f\"Optimal solution: x1 = {res.x[0]}, x2 = {res.x[1]}\")\n"
      ]
    },
    {
      "cell_type": "code",
      "execution_count": null,
      "id": "7ebf89e3",
      "metadata": {
        "id": "7ebf89e3",
        "outputId": "55795b5c-912f-4b8f-ae6b-8dd289439559"
      },
      "outputs": [
        {
          "data": {
            "text/plain": [
              "        message: Optimization terminated successfully. (HiGHS Status 7: Optimal)\n",
              "        success: True\n",
              "         status: 0\n",
              "            fun: -23.0\n",
              "              x: [ 5.000e+00  3.000e+00]\n",
              "            nit: 0\n",
              "          lower:  residual: [ 5.000e+00  3.000e+00]\n",
              "                 marginals: [ 0.000e+00  0.000e+00]\n",
              "          upper:  residual: [       inf        inf]\n",
              "                 marginals: [ 0.000e+00  0.000e+00]\n",
              "          eqlin:  residual: []\n",
              "                 marginals: []\n",
              "        ineqlin:  residual: [ 0.000e+00  1.000e+00  0.000e+00]\n",
              "                 marginals: [-2.000e-01 -0.000e+00 -1.500e-05]\n",
              " mip_node_count: 0\n",
              " mip_dual_bound: 0.0\n",
              "        mip_gap: 0.0"
            ]
          },
          "execution_count": 7,
          "metadata": {},
          "output_type": "execute_result"
        }
      ],
      "source": [
        "res"
      ]
    },
    {
      "cell_type": "code",
      "execution_count": null,
      "id": "15f299c6",
      "metadata": {
        "id": "15f299c6"
      },
      "outputs": [],
      "source": []
    }
  ],
  "metadata": {
    "celltoolbar": "Slideshow",
    "kernelspec": {
      "display_name": "Python 3 (ipykernel)",
      "language": "python",
      "name": "python3"
    },
    "language_info": {
      "codemirror_mode": {
        "name": "ipython",
        "version": 3
      },
      "file_extension": ".py",
      "mimetype": "text/x-python",
      "name": "python",
      "nbconvert_exporter": "python",
      "pygments_lexer": "ipython3",
      "version": "3.10.7"
    },
    "colab": {
      "provenance": []
    }
  },
  "nbformat": 4,
  "nbformat_minor": 5
}