{
 "cells": [
  {
   "cell_type": "markdown",
   "id": "54132c22",
   "metadata": {},
   "source": [
    "# Bài toán quy hoạch tuyến tính - linear programming"
   ]
  },
  {
   "cell_type": "markdown",
   "id": "f7e64734",
   "metadata": {},
   "source": [
    "## Bài tập 5"
   ]
  },
  {
   "cell_type": "markdown",
   "id": "acadb715",
   "metadata": {},
   "source": [
    "### Đề bài"
   ]
  },
  {
   "cell_type": "markdown",
   "id": "4696b511",
   "metadata": {},
   "source": [
    "Doanh nghiệp sản xuất đồ gỗ Việt Tiến sản xuất 4 loại bàn A, B, C, D. \n",
    "\n",
    "Doanh nghiệp có 2 phân xưởng: Phân xưởng mộc chuyên đóng bàn và phân xưởng trang trí.\n",
    "\n",
    "Số giờ công có thể huy động được cho 2 phân xưởng tương ứng là 1000 và 2500. Số gỗ quý có thể mua được là 350m3. \n",
    "\n",
    "Suất tiêu hao gỗ và lao động để sản xuất mỗi loại bàn và mỗi loại công việc cùng lãi 1 chiếc bàn mỗi loại cho trong bảng sau:\n",
    "\n",
    "\n",
    "|Loại|A|B|C|D|\n",
    "|:-------|-------|-------|-------|-------|\n",
    "|Xưởng Mộc|4 giờ|9 giờ|7 giờ|12 giờ|\n",
    "|Xưởng Trang trí|1 giờ|1 giờ|3 giờ|40 giờ|\n",
    "|Lượng gỗ|0,08 m3|0.12 m3|0.3 m3|0.21 m3|\n",
    "|Lãi|250.000|350.000|380.000|850.000|\n",
    "\n",
    "Tìm kế hoạch sản xuất của doanh nghiệp để doanh nghiệp được lãi nhiều nhất."
   ]
  },
  {
   "cell_type": "markdown",
   "id": "89bc0dd8",
   "metadata": {},
   "source": [
    "#### Mô hình hóa bài toán ví dụ:\n",
    "\n",
    "Xác định biến số:\n",
    "\n",
    "$\\mathbf{x} = \\left[ \\begin{array}{c} x_1 \\\\ x_2 \\\\ x_3 \\\\ x_4\\end{array} \\right] $\n",
    "\n",
    "\n",
    "trong đó:\n",
    "\n",
    "$x_1$, $x_2$, $x_3$, $x_4$ lần lượt là số lượng bàn loại A, B, C, D.\n",
    "\n",
    "Diễn đạt bài toán thành công thức:\n",
    "\n",
    "$\\begin{align}\n",
    "\\underset{\\substack{\\mathbf{x}}}{\\mathrm{max}} \\quad & 250x_1 + 350x_2 + 380x_3 + 850x_4 \\\\\n",
    "\\text{subject to} \\quad & 4x_1 + 9x_2 + 7x_3 + 12x_4 \\le 1000 \\\\\n",
    " & 1x_1 + 1x_2 + 3x_3 + 40x_4 \\le 2500 \\\\\n",
    " & 0.08x_1 + 0.12x_2 + 0.3x_3 + 0.21x_4 \\le 350 \\\\\n",
    " \\end{align}\n",
    "$\n",
    "\n",
    "(thực tế còn có điều kiện nữa, là x không âm)"
   ]
  },
  {
   "cell_type": "code",
   "execution_count": null,
   "id": "025e8987",
   "metadata": {},
   "outputs": [],
   "source": []
  },
  {
   "cell_type": "markdown",
   "id": "ca9a1b54",
   "metadata": {},
   "source": [
    "## Using Scipy\n",
    "\n",
    "Ta dùng gói linprog trong thư viện scipy.optimize. **Lưu ý**: linprog quy ước giải bài toán cực tiểu hóa (minimize), nên khi ta muốn giải bài toán maximize thì khai báo là minimize số đối của nó.\n",
    "\n",
    "$\\begin{align}\n",
    "\\underset{\\substack{\\mathbf{x}}}{\\mathrm{min}} \\quad & \\mathrm{c}^T \\mathbf{x} \\\\\n",
    "\\text{subject to} \\quad & \\mathrm{A}_{\\text{eq}}\\mathbf{x} = \\mathrm{b}_{\\text{eq}} \\\\\n",
    " & \\mathrm{A}_{\\text{ineq}}\\mathbf{x} \\le \\mathrm{b}_{\\text{ineq}}\n",
    " \\end{align}\n",
    "$\n"
   ]
  },
  {
   "cell_type": "code",
   "execution_count": 10,
   "id": "d55970be",
   "metadata": {},
   "outputs": [
    {
     "data": {
      "text/plain": [
       "        message: Optimization terminated successfully. (HiGHS Status 7: Optimal)\n",
       "        success: True\n",
       "         status: 0\n",
       "            fun: -68500000.0\n",
       "              x: [ 7.000e+01  0.000e+00  0.000e+00  6.000e+01]\n",
       "            nit: -1\n",
       "          lower:  residual: [ 7.000e+01  0.000e+00  0.000e+00  6.000e+01]\n",
       "                 marginals: [ 0.000e+00  0.000e+00  0.000e+00  0.000e+00]\n",
       "          upper:  residual: [       inf        inf        inf        inf]\n",
       "                 marginals: [ 0.000e+00  0.000e+00  0.000e+00  0.000e+00]\n",
       "          eqlin:  residual: []\n",
       "                 marginals: []\n",
       "        ineqlin:  residual: [ 0.000e+00  3.000e+01  3.318e+02]\n",
       "                 marginals: [ 0.000e+00  0.000e+00  0.000e+00]\n",
       " mip_node_count: 1\n",
       " mip_dual_bound: -68500000.0\n",
       "        mip_gap: 0.0"
      ]
     },
     "execution_count": 10,
     "metadata": {},
     "output_type": "execute_result"
    }
   ],
   "source": [
    "import numpy as np\n",
    "from scipy.optimize import linprog\n",
    "\n",
    "# Define the objective function\n",
    "c = [-250000, -350000, -380000, -850000]\n",
    "\n",
    "# Define the inequality constrains\n",
    "Aineq = [[4, 9, 7, 12], [1, 1, 3, 40], [0.08, 0.12, 0.3, 0.21]]\n",
    "Bienq = [1000, 2500, 350]\n",
    "\n",
    "# Define the bounds on the variables\n",
    "x1_bounds = (0, None)\n",
    "x2_bounds = (0, None)\n",
    "x3_bounds = (0, None)\n",
    "x4_bounds = (0, None)\n",
    "\n",
    "# Solve the linear programming problem\n",
    "res = linprog(c, A_ub=Aineq, b_ub = Bienq, bounds=[x1_bounds, x2_bounds, x3_bounds, x4_bounds], integrality =1)\n",
    "\n",
    "res"
   ]
  },
  {
   "cell_type": "code",
   "execution_count": 11,
   "id": "86397e5c",
   "metadata": {},
   "outputs": [
    {
     "name": "stdout",
     "output_type": "stream",
     "text": [
      "Optimal value: -68500000.0\n",
      "Optimal solution: x = [70.  0.  0. 60.]\n"
     ]
    }
   ],
   "source": [
    "# print the solution\n",
    "print(f\"Optimal value: {res.fun}\")\n",
    "print(f\"Optimal solution: x = {res.x}\")"
   ]
  },
  {
   "cell_type": "code",
   "execution_count": null,
   "id": "dd638352",
   "metadata": {},
   "outputs": [],
   "source": []
  },
  {
   "cell_type": "markdown",
   "id": "de3399fe",
   "metadata": {},
   "source": [
    "## Using PuLP"
   ]
  },
  {
   "cell_type": "code",
   "execution_count": 18,
   "id": "3f29af34",
   "metadata": {},
   "outputs": [
    {
     "name": "stdout",
     "output_type": "stream",
     "text": [
      "Status: Optimal\n",
      "Optimal value: 68500000.0\n",
      "Optimal solution: \n",
      "x1 = 70.0, x2 = 0.0, x3 = 0.0, x4 = 60.0\n"
     ]
    }
   ],
   "source": [
    "import pulp\n",
    "\n",
    "# Create the LP problem\n",
    "prob = pulp.LpProblem(\"BT5_LP_Problem\", pulp.LpMaximize)\n",
    "\n",
    "# Define the decision variables\n",
    "x1 = pulp.LpVariable(\"x1\", lowBound=0, cat=\"Integer\")\n",
    "x2 = pulp.LpVariable(\"x2\", lowBound=0, cat=\"Integer\")\n",
    "x3 = pulp.LpVariable(\"x3\", lowBound=0, cat=\"Integer\")\n",
    "x4 = pulp.LpVariable(\"x4\", lowBound=0, cat=\"Integer\")\n",
    "\n",
    "# Set the objective function\n",
    "prob += 250000*x1 + 350000*x2 + 380000*x3 + 850000*x4\n",
    "\n",
    "# Add constraits\n",
    "prob += 4*x1 + 9*x2 + 7*x3 + 12*x4 <= 1000\n",
    "prob += 1*x1 + 1*x2 + 3*x3 + 40*x4 <= 2500\n",
    "prob += 0.08*x1 + 0.12*x2 + 0.3*x3 + 0.21*x4<= 350\n",
    "\n",
    "#Solve the LP problem\n",
    "status = prob.solve()\n",
    "\n",
    "#Print the solution\n",
    "print(f\"Status: {pulp.LpStatus[status]}\")\n",
    "print(f\"Optimal value: {pulp.value(prob.objective)}\")\n",
    "print(\"Optimal solution: \")\n",
    "print(f\"x1 = {x1.varValue}, x2 = {x2.varValue}, x3 = {x3.varValue}, x4 = {x4.varValue}\")\n"
   ]
  },
  {
   "cell_type": "code",
   "execution_count": null,
   "id": "d9d2cbef",
   "metadata": {},
   "outputs": [],
   "source": []
  }
 ],
 "metadata": {
  "kernelspec": {
   "display_name": "Python 3 (ipykernel)",
   "language": "python",
   "name": "python3"
  },
  "language_info": {
   "codemirror_mode": {
    "name": "ipython",
    "version": 3
   },
   "file_extension": ".py",
   "mimetype": "text/x-python",
   "name": "python",
   "nbconvert_exporter": "python",
   "pygments_lexer": "ipython3",
   "version": "3.10.7"
  }
 },
 "nbformat": 4,
 "nbformat_minor": 5
}
